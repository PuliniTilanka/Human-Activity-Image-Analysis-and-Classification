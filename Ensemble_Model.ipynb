{
  "cells": [
    {
      "cell_type": "markdown",
      "source": [
        "1. Initial Setup and Imports"
      ],
      "metadata": {
        "id": "eOqH1nRC4Enl"
      }
    },
    {
      "cell_type": "code",
      "execution_count": null,
      "metadata": {
        "colab": {
          "base_uri": "https://localhost:8080/"
        },
        "id": "8zlAV6HYxbKq",
        "outputId": "d8e8161f-5e7f-4ae0-c245-81febc8e24c9"
      },
      "outputs": [
        {
          "output_type": "stream",
          "name": "stdout",
          "text": [
            "Mounted at /content/drive\n"
          ]
        }
      ],
      "source": [
        "from google.colab import drive\n",
        "drive.mount('/content/drive')"
      ]
    },
    {
      "cell_type": "code",
      "source": [
        "import joblib\n",
        "import numpy as np\n",
        "import cv2\n",
        "import tensorflow as tf\n",
        "from tensorflow.keras.applications import EfficientNetB0, ResNet50\n",
        "from tensorflow.keras.applications.efficientnet import preprocess_input as efficientnet_preprocess_input\n",
        "from tensorflow.keras.applications.resnet50 import preprocess_input as resnet_preprocess_input\n",
        "from sklearn.ensemble import RandomForestClassifier\n",
        "from sklearn.metrics import accuracy_score, classification_report, confusion_matrix\n",
        "from sklearn.model_selection import GridSearchCV\n",
        "import os\n",
        "import matplotlib.pyplot as plt\n",
        "import seaborn as sns"
      ],
      "metadata": {
        "id": "ugafUAeHA3wv"
      },
      "execution_count": null,
      "outputs": []
    },
    {
      "cell_type": "markdown",
      "source": [
        "2. Loading Pre-trained Models"
      ],
      "metadata": {
        "id": "VTuavzmH4K0G"
      }
    },
    {
      "cell_type": "code",
      "source": [
        "# Load EfficientNetB0 model\n",
        "efficientnet_model = EfficientNetB0(weights='imagenet', include_top=False, pooling='avg')\n",
        "\n",
        "# Load ResNet50 model\n",
        "resnet_model = ResNet50(weights='imagenet', include_top=False, pooling='avg')\n"
      ],
      "metadata": {
        "colab": {
          "base_uri": "https://localhost:8080/"
        },
        "id": "jp5BmUngA5ax",
        "outputId": "a81013ad-2f4f-421d-a4b2-1c86c32c4585"
      },
      "execution_count": null,
      "outputs": [
        {
          "output_type": "stream",
          "name": "stdout",
          "text": [
            "Downloading data from https://storage.googleapis.com/keras-applications/efficientnetb0_notop.h5\n",
            "\u001b[1m16705208/16705208\u001b[0m \u001b[32m━━━━━━━━━━━━━━━━━━━━\u001b[0m\u001b[37m\u001b[0m \u001b[1m1s\u001b[0m 0us/step\n",
            "Downloading data from https://storage.googleapis.com/tensorflow/keras-applications/resnet/resnet50_weights_tf_dim_ordering_tf_kernels_notop.h5\n",
            "\u001b[1m94765736/94765736\u001b[0m \u001b[32m━━━━━━━━━━━━━━━━━━━━\u001b[0m\u001b[37m\u001b[0m \u001b[1m4s\u001b[0m 0us/step\n"
          ]
        }
      ]
    },
    {
      "cell_type": "markdown",
      "source": [
        "3. Helper Functions"
      ],
      "metadata": {
        "id": "VYn3kOyG4Oat"
      }
    },
    {
      "cell_type": "code",
      "source": [
        "def load_image(image_path):\n",
        "    image = cv2.imread(image_path)\n",
        "    if image is None:\n",
        "        raise ValueError(f\"Image at path {image_path} could not be loaded.\")\n",
        "    return image"
      ],
      "metadata": {
        "id": "RM5KVzByA7hw"
      },
      "execution_count": null,
      "outputs": []
    },
    {
      "cell_type": "code",
      "source": [
        "def extract_features_efficientnet(image_paths):\n",
        "    images = [cv2.resize(load_image(img), (224, 224)) for img in image_paths]\n",
        "    images = np.array([efficientnet_preprocess_input(img) for img in images])\n",
        "    features = efficientnet_model.predict(images)\n",
        "    return features\n",
        "\n",
        "def extract_features_resnet50(image_paths):\n",
        "    images = [cv2.resize(load_image(img), (224, 224)) for img in image_paths]\n",
        "    images = np.array([resnet_preprocess_input(img) for img in images])\n",
        "    features = resnet_model.predict(images)\n",
        "    return features"
      ],
      "metadata": {
        "id": "Amg1kzVTA9nJ"
      },
      "execution_count": null,
      "outputs": []
    },
    {
      "cell_type": "markdown",
      "source": [
        "4. Loading the Dataset"
      ],
      "metadata": {
        "id": "sZlxPFpm4Rrl"
      }
    },
    {
      "cell_type": "code",
      "source": [
        "def load_dataset(dataset_path):\n",
        "    categories = ['Very Good', 'Good', 'Neutral', 'Bad', 'Very Bad']\n",
        "    image_paths = []\n",
        "    labels = []\n",
        "\n",
        "    for label, category in enumerate(categories):\n",
        "        category_path = os.path.join(dataset_path, category)\n",
        "        for img_name in os.listdir(category_path):\n",
        "            image_paths.append(os.path.join(category_path, img_name))\n",
        "            labels.append(label)\n",
        "\n",
        "    return image_paths, labels"
      ],
      "metadata": {
        "id": "jHNa8iM5A_qe"
      },
      "execution_count": null,
      "outputs": []
    },
    {
      "cell_type": "markdown",
      "source": [
        "5. Dataset Paths and Loading Data"
      ],
      "metadata": {
        "id": "XdKEb3Ke4Vtq"
      }
    },
    {
      "cell_type": "code",
      "source": [
        "train_dataset_path = '/content/drive/My Drive/projects_data/fyp/Train Set'\n",
        "test_dataset_path = '/content/drive/My Drive/projects_data/fyp/Test Set'\n",
        "\n",
        "train_image_paths, train_labels = load_dataset(train_dataset_path)\n",
        "test_image_paths, test_labels = load_dataset(test_dataset_path)"
      ],
      "metadata": {
        "id": "QTfzDFZnBBk7"
      },
      "execution_count": null,
      "outputs": []
    },
    {
      "cell_type": "markdown",
      "source": [
        "6. Extracting and Saving Features"
      ],
      "metadata": {
        "id": "TmlGFfgh4Yb7"
      }
    },
    {
      "cell_type": "code",
      "source": [
        "# Extract and save features for training data\n",
        "train_features_efficientnet = extract_features_efficientnet(train_image_paths)\n",
        "train_features_resnet50 = extract_features_resnet50(train_image_paths)\n",
        "train_features = np.hstack((train_features_efficientnet, train_features_resnet50))"
      ],
      "metadata": {
        "colab": {
          "base_uri": "https://localhost:8080/"
        },
        "id": "MEff1hcOBD4Y",
        "outputId": "1e811186-508f-4918-8ca0-034d011924ae"
      },
      "execution_count": null,
      "outputs": [
        {
          "output_type": "stream",
          "name": "stdout",
          "text": [
            "\u001b[1m75/75\u001b[0m \u001b[32m━━━━━━━━━━━━━━━━━━━━\u001b[0m\u001b[37m\u001b[0m \u001b[1m188s\u001b[0m 2s/step\n",
            "\u001b[1m75/75\u001b[0m \u001b[32m━━━━━━━━━━━━━━━━━━━━\u001b[0m\u001b[37m\u001b[0m \u001b[1m471s\u001b[0m 6s/step\n"
          ]
        }
      ]
    },
    {
      "cell_type": "code",
      "source": [
        "# Extract and save features for test data\n",
        "test_features_efficientnet = extract_features_efficientnet(test_image_paths)\n",
        "test_features_resnet50 = extract_features_resnet50(test_image_paths)\n",
        "test_features = np.hstack((test_features_efficientnet, test_features_resnet50))"
      ],
      "metadata": {
        "colab": {
          "base_uri": "https://localhost:8080/"
        },
        "id": "vJpcfwYhED_j",
        "outputId": "d1a1aba6-5dfb-4678-b0d3-05462806e09e"
      },
      "execution_count": null,
      "outputs": [
        {
          "output_type": "stream",
          "name": "stdout",
          "text": [
            "\u001b[1m19/19\u001b[0m \u001b[32m━━━━━━━━━━━━━━━━━━━━\u001b[0m\u001b[37m\u001b[0m \u001b[1m49s\u001b[0m 3s/step\n",
            "\u001b[1m19/19\u001b[0m \u001b[32m━━━━━━━━━━━━━━━━━━━━\u001b[0m\u001b[37m\u001b[0m \u001b[1m117s\u001b[0m 6s/step\n"
          ]
        }
      ]
    },
    {
      "cell_type": "code",
      "source": [
        "# Save the features and labels\n",
        "np.save('train_features.npy', train_features)\n",
        "np.save('train_labels.npy', train_labels)\n",
        "np.save('test_features.npy', test_features)\n",
        "np.save('test_labels.npy', test_labels)"
      ],
      "metadata": {
        "id": "b05i5m-pBKVU"
      },
      "execution_count": null,
      "outputs": []
    },
    {
      "cell_type": "markdown",
      "source": [
        "7. Hyperparameter Tuning and Training the Model"
      ],
      "metadata": {
        "id": "NJz1_8NH4inX"
      }
    },
    {
      "cell_type": "code",
      "source": [
        "# Load the features and labels\n",
        "train_features = np.load('train_features.npy')\n",
        "train_labels = np.load('train_labels.npy')\n",
        "\n",
        "# Hyperparameter Tuning with GridSearchCV\n",
        "param_grid = {\n",
        "    'n_estimators': [100, 200, 300],\n",
        "    'max_depth': [None, 10, 20, 30],\n",
        "    'min_samples_split': [2, 5, 10],\n",
        "    'min_samples_leaf': [1, 2, 4]\n",
        "}\n",
        "# Train Random Forest classifier\n",
        "rf_ensemble = RandomForestClassifier(random_state=42)\n",
        "grid_search = GridSearchCV(estimator=rf_ensemble, param_grid=param_grid, cv=3, n_jobs=-1, verbose=2)\n",
        "grid_search.fit(train_features, train_labels)\n",
        "\n",
        "rf_ensemble = grid_search.best_estimator_\n",
        "\n",
        "# Save the trained Random Forest ensemble model\n",
        "joblib.dump(rf_ensemble, '/content/drive/My Drive/projects_data/fyp/rf_ensemble_model_1.pkl')"
      ],
      "metadata": {
        "colab": {
          "base_uri": "https://localhost:8080/"
        },
        "id": "cm0uuRZPBO7K",
        "outputId": "793ebf94-26e4-4d93-bef9-f70c0c613e3a"
      },
      "execution_count": null,
      "outputs": [
        {
          "output_type": "stream",
          "name": "stdout",
          "text": [
            "Fitting 3 folds for each of 108 candidates, totalling 324 fits\n"
          ]
        },
        {
          "output_type": "stream",
          "name": "stderr",
          "text": [
            "/usr/local/lib/python3.10/dist-packages/joblib/externals/loky/backend/fork_exec.py:38: RuntimeWarning: os.fork() was called. os.fork() is incompatible with multithreaded code, and JAX is multithreaded, so this will likely lead to a deadlock.\n",
            "  pid = os.fork()\n",
            "/usr/local/lib/python3.10/dist-packages/joblib/externals/loky/backend/fork_exec.py:38: RuntimeWarning: os.fork() was called. os.fork() is incompatible with multithreaded code, and JAX is multithreaded, so this will likely lead to a deadlock.\n",
            "  pid = os.fork()\n"
          ]
        },
        {
          "output_type": "execute_result",
          "data": {
            "text/plain": [
              "['/content/drive/My Drive/projects_data/fyp/rf_ensemble_model_1.pkl']"
            ]
          },
          "metadata": {},
          "execution_count": 11
        }
      ]
    },
    {
      "cell_type": "markdown",
      "source": [
        "8. Model Evaluation"
      ],
      "metadata": {
        "id": "NWKOHebn4oqo"
      }
    },
    {
      "cell_type": "code",
      "source": [
        "# Make predictions on the test data\n",
        "predictions = rf_ensemble.predict(test_features)\n",
        "\n",
        "# Evaluate the model\n",
        "accuracy = accuracy_score(test_labels, predictions)\n",
        "report = classification_report(test_labels, predictions, target_names=['Very Good', 'Good', 'Neutral', 'Bad', 'Very Bad'])\n",
        "cm = confusion_matrix(test_labels, predictions)\n",
        "\n",
        "print(f'Ensemble Model Accuracy: {accuracy}')\n",
        "print(f'Classification Report:\\n{report}')"
      ],
      "metadata": {
        "colab": {
          "base_uri": "https://localhost:8080/"
        },
        "id": "qqs_ozrRBp3q",
        "outputId": "dd089c0b-893c-4c8c-aecd-a6da233a394e"
      },
      "execution_count": null,
      "outputs": [
        {
          "output_type": "stream",
          "name": "stdout",
          "text": [
            "Ensemble Model Accuracy: 0.7216666666666667\n",
            "Classification Report:\n",
            "              precision    recall  f1-score   support\n",
            "\n",
            "   Very Good       0.72      0.72      0.72       120\n",
            "        Good       0.73      0.76      0.74       120\n",
            "     Neutral       0.69      0.84      0.76       120\n",
            "         Bad       0.71      0.53      0.61       120\n",
            "    Very Bad       0.76      0.76      0.76       120\n",
            "\n",
            "    accuracy                           0.72       600\n",
            "   macro avg       0.72      0.72      0.72       600\n",
            "weighted avg       0.72      0.72      0.72       600\n",
            "\n"
          ]
        }
      ]
    },
    {
      "cell_type": "code",
      "source": [
        "# Plot confusion matrix heatmap\n",
        "plt.figure(figsize=(10, 7))\n",
        "sns.heatmap(cm, annot=True, fmt='d', cmap='Blues', xticklabels=['Very Good', 'Good', 'Neutral', 'Bad', 'Very Bad'], yticklabels=['Very Good', 'Good', 'Neutral', 'Bad', 'Very Bad'])\n",
        "plt.xlabel('Predicted')\n",
        "plt.ylabel('True')\n",
        "plt.title('Confusion Matrix Heatmap')\n",
        "plt.show()"
      ],
      "metadata": {
        "colab": {
          "base_uri": "https://localhost:8080/",
          "height": 641
        },
        "id": "nbqzJqJwBrj3",
        "outputId": "8fd72894-dc52-46c4-eeb9-9eafae89d4e9"
      },
      "execution_count": null,
      "outputs": [
        {
          "output_type": "display_data",
          "data": {
            "text/plain": [
              "<Figure size 1000x700 with 2 Axes>"
            ],
            "image/png": "[encoded data removed]"
          },
          "metadata": {}
        }
      ]
    },
    {
      "cell_type": "markdown",
      "source": [
        "9. Testing Individual Images"
      ],
      "metadata": {
        "id": "I0-rwfNQ4trR"
      }
    },
    {
      "cell_type": "code",
      "source": [
        "from google.colab import drive\n",
        "drive.mount('/content/drive')\n",
        "\n",
        "import joblib\n",
        "import numpy as np\n",
        "import tensorflow\n",
        "import pickle\n",
        "from tensorflow.keras.applications.efficientnet import EfficientNetB0, preprocess_input as efficientnet_preprocess_input\n",
        "from tensorflow.keras.applications.resnet50 import ResNet50\n",
        "from tensorflow.keras.applications.resnet50 import preprocess_input as resnet_preprocess_input\n",
        "import cv2\n",
        "\n",
        "# Load the trained Random Forest ensemble model\n",
        "rf_ensemble = joblib.load('/content/drive/My Drive/projects_data/fyp/rf_ensemble_model_1.pkl')"
      ],
      "metadata": {
        "id": "PNTomuaQBljC",
        "colab": {
          "base_uri": "https://localhost:8080/"
        },
        "outputId": "f70ad093-f8c5-4c7e-9425-3a2b4ef39cad"
      },
      "execution_count": null,
      "outputs": [
        {
          "output_type": "stream",
          "name": "stdout",
          "text": [
            "Mounted at /content/drive\n"
          ]
        }
      ]
    },
    {
      "cell_type": "code",
      "source": [
        "\n",
        "efficientnet_model = EfficientNetB0(weights='imagenet', include_top=False, pooling='avg')\n",
        "resnet_model = ResNet50(weights='imagenet', include_top=False, pooling='avg')\n",
        "\n",
        "def load_image(image_path):\n",
        "    # Load an image from the specified path\n",
        "    img = cv2.imread(image_path)\n",
        "    img = cv2.cvtColor(img, cv2.COLOR_BGR2RGB)  # Convert BGR to RGB\n",
        "    return img\n",
        "\n",
        "def test_individual_image(image_path):\n",
        "    # Extract features from the image\n",
        "    img = load_image(image_path)\n",
        "    img_efficientnet = efficientnet_preprocess_input(cv2.resize(img, (224, 224)))\n",
        "    img_resnet50 = resnet_preprocess_input(cv2.resize(img, (224, 224)))\n",
        "\n",
        "    feature_efficientnet = efficientnet_model.predict(np.expand_dims(img_efficientnet, axis=0))\n",
        "    feature_resnet50 = resnet_model.predict(np.expand_dims(img_resnet50, axis=0))\n",
        "\n",
        "    feature = np.hstack((feature_efficientnet, feature_resnet50))\n",
        "\n",
        "    # Predict the category\n",
        "    prediction = rf_ensemble.predict(feature)\n",
        "    categories = ['Very Good', 'Good', 'Neutral', 'Bad', 'Very Bad']\n",
        "    predicted_category = categories[prediction[0]]\n",
        "    return predicted_category"
      ],
      "metadata": {
        "colab": {
          "base_uri": "https://localhost:8080/"
        },
        "id": "LDb0kuW1P-ny",
        "outputId": "0b7555b4-8f33-4060-e104-bc5a304eef0b"
      },
      "execution_count": null,
      "outputs": [
        {
          "output_type": "stream",
          "name": "stdout",
          "text": [
            "Downloading data from https://storage.googleapis.com/keras-applications/efficientnetb0_notop.h5\n",
            "\u001b[1m16705208/16705208\u001b[0m \u001b[32m━━━━━━━━━━━━━━━━━━━━\u001b[0m\u001b[37m\u001b[0m \u001b[1m0s\u001b[0m 0us/step\n",
            "Downloading data from https://storage.googleapis.com/tensorflow/keras-applications/resnet/resnet50_weights_tf_dim_ordering_tf_kernels_notop.h5\n",
            "\u001b[1m94765736/94765736\u001b[0m \u001b[32m━━━━━━━━━━━━━━━━━━━━\u001b[0m\u001b[37m\u001b[0m \u001b[1m1s\u001b[0m 0us/step\n"
          ]
        }
      ]
    },
    {
      "cell_type": "code",
      "source": [
        "# testing individual images\n",
        "test_image_path = '/content/drive/My Drive/projects_data/fyp/Test Set/Very Good/209.jpeg'\n",
        "predicted_category = test_individual_image(test_image_path)\n",
        "print(f'The predicted category for the test image is: {predicted_category}')"
      ],
      "metadata": {
        "colab": {
          "base_uri": "https://localhost:8080/"
        },
        "id": "7rmTB_MPQM29",
        "outputId": "09c7dfce-b97c-4f54-e21f-0e3d34c4d44e"
      },
      "execution_count": null,
      "outputs": [
        {
          "output_type": "stream",
          "name": "stdout",
          "text": [
            "\u001b[1m1/1\u001b[0m \u001b[32m━━━━━━━━━━━━━━━━━━━━\u001b[0m\u001b[37m\u001b[0m \u001b[1m0s\u001b[0m 100ms/step\n",
            "\u001b[1m1/1\u001b[0m \u001b[32m━━━━━━━━━━━━━━━━━━━━\u001b[0m\u001b[37m\u001b[0m \u001b[1m0s\u001b[0m 347ms/step\n",
            "The predicted category for the test image is: Very Good\n"
          ]
        }
      ]
    }
  ],
  "metadata": {
    "colab": {
      "provenance": []
    },
    "kernelspec": {
      "display_name": "Python 3",
      "name": "python3"
    },
    "language_info": {
      "name": "python"
    }
  },
  "nbformat": 4,
  "nbformat_minor": 0
}